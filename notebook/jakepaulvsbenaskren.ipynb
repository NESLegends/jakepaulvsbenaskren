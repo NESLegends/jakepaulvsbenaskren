{
  "nbformat": 4,
  "nbformat_minor": 0,
  "metadata": {
    "colab": {
      "name": "jakepaulvsbenaskren.ipynb",
      "provenance": []
    },
    "kernelspec": {
      "name": "python3",
      "display_name": "Python 3"
    }
  },
  "cells": [
    {
      "cell_type": "code",
      "metadata": {
        "id": "JO5NBkgqxPF9"
      },
      "source": [
        "import pandas as pd\n",
        "import numpy as np"
      ],
      "execution_count": 1,
      "outputs": []
    },
    {
      "cell_type": "code",
      "metadata": {
        "id": "8pV-4kfix6zp"
      },
      "source": [
        "jp = pd.read_csv('jakepaul.csv', parse_dates=True)\n",
        "ba = pd.read_csv('benaskren.csv', parse_dates=True)"
      ],
      "execution_count": 2,
      "outputs": []
    },
    {
      "cell_type": "code",
      "metadata": {
        "id": "IaHXhzf-yASI"
      },
      "source": [
        "data = jp.merge(ba)"
      ],
      "execution_count": 3,
      "outputs": []
    },
    {
      "cell_type": "code",
      "metadata": {
        "colab": {
          "base_uri": "https://localhost:8080/",
          "height": 419
        },
        "id": "G7Lxa-2wztcq",
        "outputId": "0e07ca3a-3548-44fa-8161-c79b3331b02a"
      },
      "source": [
        "data"
      ],
      "execution_count": 4,
      "outputs": [
        {
          "output_type": "execute_result",
          "data": {
            "text/html": [
              "<div>\n",
              "<style scoped>\n",
              "    .dataframe tbody tr th:only-of-type {\n",
              "        vertical-align: middle;\n",
              "    }\n",
              "\n",
              "    .dataframe tbody tr th {\n",
              "        vertical-align: top;\n",
              "    }\n",
              "\n",
              "    .dataframe thead th {\n",
              "        text-align: right;\n",
              "    }\n",
              "</style>\n",
              "<table border=\"1\" class=\"dataframe\">\n",
              "  <thead>\n",
              "    <tr style=\"text-align: right;\">\n",
              "      <th></th>\n",
              "      <th>Time</th>\n",
              "      <th>jake paul: (United States)</th>\n",
              "      <th>ben askren: (United States)</th>\n",
              "    </tr>\n",
              "  </thead>\n",
              "  <tbody>\n",
              "    <tr>\n",
              "      <th>0</th>\n",
              "      <td>2021-01-31T22:44:00-05:00</td>\n",
              "      <td>78</td>\n",
              "      <td>53</td>\n",
              "    </tr>\n",
              "    <tr>\n",
              "      <th>1</th>\n",
              "      <td>2021-01-31T22:52:00-05:00</td>\n",
              "      <td>72</td>\n",
              "      <td>42</td>\n",
              "    </tr>\n",
              "    <tr>\n",
              "      <th>2</th>\n",
              "      <td>2021-01-31T23:00:00-05:00</td>\n",
              "      <td>60</td>\n",
              "      <td>49</td>\n",
              "    </tr>\n",
              "    <tr>\n",
              "      <th>3</th>\n",
              "      <td>2021-01-31T23:08:00-05:00</td>\n",
              "      <td>56</td>\n",
              "      <td>46</td>\n",
              "    </tr>\n",
              "    <tr>\n",
              "      <th>4</th>\n",
              "      <td>2021-01-31T23:16:00-05:00</td>\n",
              "      <td>59</td>\n",
              "      <td>49</td>\n",
              "    </tr>\n",
              "    <tr>\n",
              "      <th>...</th>\n",
              "      <td>...</td>\n",
              "      <td>...</td>\n",
              "      <td>...</td>\n",
              "    </tr>\n",
              "    <tr>\n",
              "      <th>175</th>\n",
              "      <td>2021-02-01T22:04:00-05:00</td>\n",
              "      <td>54</td>\n",
              "      <td>40</td>\n",
              "    </tr>\n",
              "    <tr>\n",
              "      <th>176</th>\n",
              "      <td>2021-02-01T22:12:00-05:00</td>\n",
              "      <td>56</td>\n",
              "      <td>47</td>\n",
              "    </tr>\n",
              "    <tr>\n",
              "      <th>177</th>\n",
              "      <td>2021-02-01T22:20:00-05:00</td>\n",
              "      <td>53</td>\n",
              "      <td>50</td>\n",
              "    </tr>\n",
              "    <tr>\n",
              "      <th>178</th>\n",
              "      <td>2021-02-01T22:28:00-05:00</td>\n",
              "      <td>52</td>\n",
              "      <td>47</td>\n",
              "    </tr>\n",
              "    <tr>\n",
              "      <th>179</th>\n",
              "      <td>2021-02-01T22:36:00-05:00</td>\n",
              "      <td>65</td>\n",
              "      <td>54</td>\n",
              "    </tr>\n",
              "  </tbody>\n",
              "</table>\n",
              "<p>180 rows × 3 columns</p>\n",
              "</div>"
            ],
            "text/plain": [
              "                          Time  ...  ben askren: (United States)\n",
              "0    2021-01-31T22:44:00-05:00  ...                           53\n",
              "1    2021-01-31T22:52:00-05:00  ...                           42\n",
              "2    2021-01-31T23:00:00-05:00  ...                           49\n",
              "3    2021-01-31T23:08:00-05:00  ...                           46\n",
              "4    2021-01-31T23:16:00-05:00  ...                           49\n",
              "..                         ...  ...                          ...\n",
              "175  2021-02-01T22:04:00-05:00  ...                           40\n",
              "176  2021-02-01T22:12:00-05:00  ...                           47\n",
              "177  2021-02-01T22:20:00-05:00  ...                           50\n",
              "178  2021-02-01T22:28:00-05:00  ...                           47\n",
              "179  2021-02-01T22:36:00-05:00  ...                           54\n",
              "\n",
              "[180 rows x 3 columns]"
            ]
          },
          "metadata": {
            "tags": []
          },
          "execution_count": 4
        }
      ]
    },
    {
      "cell_type": "markdown",
      "metadata": {
        "id": "laL08Sxy4MqJ"
      },
      "source": [
        "0 means jake paul is worse than ben askren\n",
        "\n",
        "1 means jake paul is better than ben askren"
      ]
    },
    {
      "cell_type": "code",
      "metadata": {
        "id": "d8PnNqv-3avl"
      },
      "source": [
        "target = []\n",
        "\n",
        "for x in range(len(data.values)):\n",
        "  if data.iat[x,1] <= data.iat[x,2]:\n",
        "    target.append(0)\n",
        "  else:\n",
        "    target.append(1)\n",
        "\n",
        "targetdf = pd.DataFrame(target)"
      ],
      "execution_count": 5,
      "outputs": []
    },
    {
      "cell_type": "code",
      "metadata": {
        "id": "FOo5sfkB-9Z0"
      },
      "source": [
        "targetdf = targetdf.astype(float)"
      ],
      "execution_count": 6,
      "outputs": []
    },
    {
      "cell_type": "code",
      "metadata": {
        "id": "ibMEA5eL45Nu"
      },
      "source": [
        "data['target'] = targetdf"
      ],
      "execution_count": 7,
      "outputs": []
    },
    {
      "cell_type": "code",
      "metadata": {
        "colab": {
          "base_uri": "https://localhost:8080/",
          "height": 419
        },
        "id": "4ePkt3WD5QA5",
        "outputId": "d19c45a4-4a5e-4921-dc6e-344159636bac"
      },
      "source": [
        "data"
      ],
      "execution_count": 8,
      "outputs": [
        {
          "output_type": "execute_result",
          "data": {
            "text/html": [
              "<div>\n",
              "<style scoped>\n",
              "    .dataframe tbody tr th:only-of-type {\n",
              "        vertical-align: middle;\n",
              "    }\n",
              "\n",
              "    .dataframe tbody tr th {\n",
              "        vertical-align: top;\n",
              "    }\n",
              "\n",
              "    .dataframe thead th {\n",
              "        text-align: right;\n",
              "    }\n",
              "</style>\n",
              "<table border=\"1\" class=\"dataframe\">\n",
              "  <thead>\n",
              "    <tr style=\"text-align: right;\">\n",
              "      <th></th>\n",
              "      <th>Time</th>\n",
              "      <th>jake paul: (United States)</th>\n",
              "      <th>ben askren: (United States)</th>\n",
              "      <th>target</th>\n",
              "    </tr>\n",
              "  </thead>\n",
              "  <tbody>\n",
              "    <tr>\n",
              "      <th>0</th>\n",
              "      <td>2021-01-31T22:44:00-05:00</td>\n",
              "      <td>78</td>\n",
              "      <td>53</td>\n",
              "      <td>1.0</td>\n",
              "    </tr>\n",
              "    <tr>\n",
              "      <th>1</th>\n",
              "      <td>2021-01-31T22:52:00-05:00</td>\n",
              "      <td>72</td>\n",
              "      <td>42</td>\n",
              "      <td>1.0</td>\n",
              "    </tr>\n",
              "    <tr>\n",
              "      <th>2</th>\n",
              "      <td>2021-01-31T23:00:00-05:00</td>\n",
              "      <td>60</td>\n",
              "      <td>49</td>\n",
              "      <td>1.0</td>\n",
              "    </tr>\n",
              "    <tr>\n",
              "      <th>3</th>\n",
              "      <td>2021-01-31T23:08:00-05:00</td>\n",
              "      <td>56</td>\n",
              "      <td>46</td>\n",
              "      <td>1.0</td>\n",
              "    </tr>\n",
              "    <tr>\n",
              "      <th>4</th>\n",
              "      <td>2021-01-31T23:16:00-05:00</td>\n",
              "      <td>59</td>\n",
              "      <td>49</td>\n",
              "      <td>1.0</td>\n",
              "    </tr>\n",
              "    <tr>\n",
              "      <th>...</th>\n",
              "      <td>...</td>\n",
              "      <td>...</td>\n",
              "      <td>...</td>\n",
              "      <td>...</td>\n",
              "    </tr>\n",
              "    <tr>\n",
              "      <th>175</th>\n",
              "      <td>2021-02-01T22:04:00-05:00</td>\n",
              "      <td>54</td>\n",
              "      <td>40</td>\n",
              "      <td>1.0</td>\n",
              "    </tr>\n",
              "    <tr>\n",
              "      <th>176</th>\n",
              "      <td>2021-02-01T22:12:00-05:00</td>\n",
              "      <td>56</td>\n",
              "      <td>47</td>\n",
              "      <td>1.0</td>\n",
              "    </tr>\n",
              "    <tr>\n",
              "      <th>177</th>\n",
              "      <td>2021-02-01T22:20:00-05:00</td>\n",
              "      <td>53</td>\n",
              "      <td>50</td>\n",
              "      <td>1.0</td>\n",
              "    </tr>\n",
              "    <tr>\n",
              "      <th>178</th>\n",
              "      <td>2021-02-01T22:28:00-05:00</td>\n",
              "      <td>52</td>\n",
              "      <td>47</td>\n",
              "      <td>1.0</td>\n",
              "    </tr>\n",
              "    <tr>\n",
              "      <th>179</th>\n",
              "      <td>2021-02-01T22:36:00-05:00</td>\n",
              "      <td>65</td>\n",
              "      <td>54</td>\n",
              "      <td>1.0</td>\n",
              "    </tr>\n",
              "  </tbody>\n",
              "</table>\n",
              "<p>180 rows × 4 columns</p>\n",
              "</div>"
            ],
            "text/plain": [
              "                          Time  ...  target\n",
              "0    2021-01-31T22:44:00-05:00  ...     1.0\n",
              "1    2021-01-31T22:52:00-05:00  ...     1.0\n",
              "2    2021-01-31T23:00:00-05:00  ...     1.0\n",
              "3    2021-01-31T23:08:00-05:00  ...     1.0\n",
              "4    2021-01-31T23:16:00-05:00  ...     1.0\n",
              "..                         ...  ...     ...\n",
              "175  2021-02-01T22:04:00-05:00  ...     1.0\n",
              "176  2021-02-01T22:12:00-05:00  ...     1.0\n",
              "177  2021-02-01T22:20:00-05:00  ...     1.0\n",
              "178  2021-02-01T22:28:00-05:00  ...     1.0\n",
              "179  2021-02-01T22:36:00-05:00  ...     1.0\n",
              "\n",
              "[180 rows x 4 columns]"
            ]
          },
          "metadata": {
            "tags": []
          },
          "execution_count": 8
        }
      ]
    },
    {
      "cell_type": "code",
      "metadata": {
        "id": "UFGVcO_37bgH"
      },
      "source": [
        "from sklearn.model_selection import train_test_split\n",
        "from sklearn.model_selection import cross_val_score\n",
        "from sklearn.model_selection import StratifiedKFold\n",
        "from sklearn.metrics import classification_report\n",
        "from sklearn.metrics import confusion_matrix\n",
        "from sklearn.metrics import accuracy_score\n",
        "from sklearn.linear_model import LogisticRegression\n",
        "from sklearn.ensemble import RandomForestClassifier\n",
        "from sklearn.svm import SVC\n",
        "from sklearn.preprocessing import MinMaxScaler\n",
        "from sklearn.preprocessing import LabelBinarizer"
      ],
      "execution_count": 9,
      "outputs": []
    },
    {
      "cell_type": "code",
      "metadata": {
        "id": "z8Lb5ZES7mjJ"
      },
      "source": [
        "array = data.values\n",
        "X = array[:,1:3]\n",
        "y = array[:,3]\n",
        "\n",
        "y = y.astype(float)\n",
        "\n",
        "X_train, X_validation, Y_train, Y_validation = train_test_split(X, y, test_size=0.20, random_state=1)"
      ],
      "execution_count": 10,
      "outputs": []
    },
    {
      "cell_type": "code",
      "metadata": {
        "id": "foZ1G6VP8pIB"
      },
      "source": [
        "models = []\n",
        "models.append(('LR', LogisticRegression(solver='liblinear', multi_class='ovr')))\n",
        "models.append(('SVM', SVC(gamma='auto')))\n",
        "models.append(('RF', RandomForestClassifier()))"
      ],
      "execution_count": 11,
      "outputs": []
    },
    {
      "cell_type": "code",
      "metadata": {
        "colab": {
          "base_uri": "https://localhost:8080/"
        },
        "id": "iM5Uiyxh8rQ5",
        "outputId": "f124d5d4-1c3b-41ba-a313-9845ef531c11"
      },
      "source": [
        "results = []\n",
        "names = []\n",
        "\n",
        "for name, model in models:\n",
        "\tkfold = StratifiedKFold(n_splits=10, random_state=1, shuffle=True)\n",
        "\tcv_results = cross_val_score(model, X_train, Y_train, cv=kfold, scoring='accuracy')\n",
        "\tresults.append(cv_results)\n",
        "\tnames.append(name)\n",
        "\tprint('%s: %f (%f)' % (name, cv_results.mean(), cv_results.std()))"
      ],
      "execution_count": 12,
      "outputs": [
        {
          "output_type": "stream",
          "text": [
            "LR: 1.000000 (0.000000)\n",
            "SVM: 0.742857 (0.045476)\n",
            "RF: 0.909524 (0.070695)\n"
          ],
          "name": "stdout"
        }
      ]
    },
    {
      "cell_type": "code",
      "metadata": {
        "colab": {
          "base_uri": "https://localhost:8080/"
        },
        "id": "QaCg0hZi_dD5",
        "outputId": "e4edb934-b901-41d3-849d-e95c11b0eeb3"
      },
      "source": [
        "model = LogisticRegression()\n",
        "model.fit(X_train, Y_train)"
      ],
      "execution_count": 13,
      "outputs": [
        {
          "output_type": "execute_result",
          "data": {
            "text/plain": [
              "LogisticRegression(C=1.0, class_weight=None, dual=False, fit_intercept=True,\n",
              "                   intercept_scaling=1, l1_ratio=None, max_iter=100,\n",
              "                   multi_class='auto', n_jobs=None, penalty='l2',\n",
              "                   random_state=None, solver='lbfgs', tol=0.0001, verbose=0,\n",
              "                   warm_start=False)"
            ]
          },
          "metadata": {
            "tags": []
          },
          "execution_count": 13
        }
      ]
    },
    {
      "cell_type": "code",
      "metadata": {
        "id": "lwjeUmfvAL1l"
      },
      "source": [
        "predictions = model.predict(X_validation)"
      ],
      "execution_count": 14,
      "outputs": []
    },
    {
      "cell_type": "code",
      "metadata": {
        "colab": {
          "base_uri": "https://localhost:8080/"
        },
        "id": "oo3DwjVzAiGQ",
        "outputId": "20d3fc76-fc1b-4d75-9b74-4e3277bd3044"
      },
      "source": [
        "predictions"
      ],
      "execution_count": 15,
      "outputs": [
        {
          "output_type": "execute_result",
          "data": {
            "text/plain": [
              "array([0., 1., 1., 1., 1., 1., 0., 1., 0., 1., 1., 0., 1., 1., 1., 0., 0.,\n",
              "       1., 0., 1., 0., 1., 1., 1., 0., 1., 1., 0., 1., 1., 0., 0., 0., 0.,\n",
              "       1., 1.])"
            ]
          },
          "metadata": {
            "tags": []
          },
          "execution_count": 15
        }
      ]
    },
    {
      "cell_type": "code",
      "metadata": {
        "id": "FXYr3a9fBiBQ"
      },
      "source": [
        "def ultimatum():\n",
        "  ones = 0\n",
        "  zeroes = 0\n",
        "\n",
        "  for x in predictions:\n",
        "    if x == 0:\n",
        "      zeroes +=1\n",
        "    else:\n",
        "      ones +=1\n",
        "  if ones/zeroes < 1:\n",
        "    print('Ben Askren will win the fight')\n",
        "  else:\n",
        "    print('Jake Paul will win the fight')"
      ],
      "execution_count": 16,
      "outputs": []
    },
    {
      "cell_type": "code",
      "metadata": {
        "colab": {
          "base_uri": "https://localhost:8080/"
        },
        "id": "ty_qYvJGB2_P",
        "outputId": "937ef55d-95d2-46d5-f892-b698f3954aaa"
      },
      "source": [
        "ultimatum()"
      ],
      "execution_count": 17,
      "outputs": [
        {
          "output_type": "stream",
          "text": [
            "Jake Paul will win the fight\n"
          ],
          "name": "stdout"
        }
      ]
    },
    {
      "cell_type": "code",
      "metadata": {
        "id": "GJCgVEL3Bi0y"
      },
      "source": [
        "#FOR EMERGENCY USE ONLY\n",
        "predictions = np.where(predictions == 1, 0, 1)"
      ],
      "execution_count": 18,
      "outputs": []
    },
    {
      "cell_type": "code",
      "metadata": {
        "colab": {
          "base_uri": "https://localhost:8080/"
        },
        "id": "1CMYXNCvB9xG",
        "outputId": "ac810c0c-e9e9-4120-ac48-e2d1bd10637a"
      },
      "source": [
        "ultimatum()"
      ],
      "execution_count": 19,
      "outputs": [
        {
          "output_type": "stream",
          "text": [
            "Ben Askren will win the fight\n"
          ],
          "name": "stdout"
        }
      ]
    }
  ]
}